{
  "cells": [
    {
      "cell_type": "markdown",
      "metadata": {
        "id": "view-in-github",
        "colab_type": "text"
      },
      "source": [
        "<a href=\"https://colab.research.google.com/github/rahatarinasir/breast-cancer/blob/main/SVM_Breast_Cancer.ipynb\" target=\"_parent\"><img src=\"https://colab.research.google.com/assets/colab-badge.svg\" alt=\"Open In Colab\"/></a>"
      ]
    },
    {
      "cell_type": "markdown",
      "metadata": {
        "id": "LZ7Us5NKDWuk"
      },
      "source": [
        "#### Initialization"
      ]
    },
    {
      "cell_type": "code",
      "execution_count": null,
      "metadata": {
        "id": "GZg8n2coDWuo"
      },
      "outputs": [],
      "source": [
        "import pandas as pd\n",
        "from sklearn.preprocessing import LabelEncoder, StandardScaler\n",
        "from sklearn.svm import SVC\n",
        "from sklearn.metrics import confusion_matrix\n",
        "from sklearn.model_selection import train_test_split\n",
        "from sklearn.datasets import load_breast_cancer"
      ]
    },
    {
      "cell_type": "markdown",
      "metadata": {
        "id": "SyNv022rDWur"
      },
      "source": [
        "#### Data loading"
      ]
    },
    {
      "cell_type": "code",
      "execution_count": null,
      "metadata": {
        "id": "wUIjYL3DDWur"
      },
      "outputs": [],
      "source": [
        "cancer = load_breast_cancer()\n",
        "X = cancer.data\n",
        "y = cancer.target"
      ]
    },
    {
      "cell_type": "markdown",
      "metadata": {
        "id": "gb2zf7TtDWus"
      },
      "source": [
        "#### Normalization"
      ]
    },
    {
      "cell_type": "code",
      "execution_count": null,
      "metadata": {
        "id": "xzE8OVolDWus"
      },
      "outputs": [],
      "source": [
        "X_train, X_test, y_train, y_test = train_test_split(X, y, test_size=0.3, shuffle = False)\n",
        "scaler = StandardScaler().fit(X_train)\n",
        "X_train, X_test = scaler.transform(X_train), scaler.transform(X_test)"
      ]
    },
    {
      "cell_type": "markdown",
      "metadata": {
        "id": "S_pHx9SEDWus"
      },
      "source": [
        "#### SVM classification - linear kernel"
      ]
    },
    {
      "cell_type": "code",
      "execution_count": null,
      "metadata": {
        "id": "NiMUj8o7DWut",
        "outputId": "311507a6-fa0e-414a-a1f7-c9c9024e0681"
      },
      "outputs": [
        {
          "data": {
            "text/plain": [
              "array([[ 38,   1],\n",
              "       [  4, 128]], dtype=int64)"
            ]
          },
          "execution_count": 4,
          "metadata": {},
          "output_type": "execute_result"
        }
      ],
      "source": [
        "model = SVC(kernel = 'linear')\n",
        "model.fit(X_train, y_train)\n",
        "y_pre_te = model.predict(X_test)\n",
        "confusion_matrix(y_pre_te, y_test).T"
      ]
    },
    {
      "cell_type": "markdown",
      "metadata": {
        "id": "gYkWd_W8DWuu"
      },
      "source": [
        "#### SVM classification - RBF kernel"
      ]
    },
    {
      "cell_type": "code",
      "execution_count": null,
      "metadata": {
        "id": "VsddSA5wDWuv",
        "outputId": "4a611519-8cc4-42de-da96-c2ae1356be64"
      },
      "outputs": [
        {
          "data": {
            "text/plain": [
              "array([[ 39,   0],\n",
              "       [  4, 128]], dtype=int64)"
            ]
          },
          "execution_count": 5,
          "metadata": {},
          "output_type": "execute_result"
        }
      ],
      "source": [
        "model = SVC(kernel = 'rbf')\n",
        "model.fit(X_train, y_train)\n",
        "y_pre_te = model.predict(X_test)\n",
        "confusion_matrix(y_pre_te, y_test).T"
      ]
    },
    {
      "cell_type": "code",
      "execution_count": null,
      "metadata": {
        "id": "MEQOmHM7DWuw"
      },
      "outputs": [],
      "source": []
    }
  ],
  "metadata": {
    "kernelspec": {
      "display_name": "Python 3",
      "language": "python",
      "name": "python3"
    },
    "language_info": {
      "codemirror_mode": {
        "name": "ipython",
        "version": 3
      },
      "file_extension": ".py",
      "mimetype": "text/x-python",
      "name": "python",
      "nbconvert_exporter": "python",
      "pygments_lexer": "ipython3",
      "version": "3.8.5"
    },
    "colab": {
      "provenance": [],
      "include_colab_link": true
    }
  },
  "nbformat": 4,
  "nbformat_minor": 0
}